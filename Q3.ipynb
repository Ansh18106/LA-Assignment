{
 "cells": [
  {
   "cell_type": "markdown",
   "metadata": {
    "id": "Wrcx3fG5KVby"
   },
   "source": [
    "# 3. Stationary Distribution of Markov Chain"
   ]
  },
  {
   "cell_type": "markdown",
   "metadata": {
    "id": "LMcgg4WqKf8V"
   },
   "source": [
    "**Loading data**\n",
    "`load_data` function will help in loading the data from the `P_008.txt` file."
   ]
  },
  {
   "cell_type": "code",
   "execution_count": null,
   "metadata": {
    "id": "lFTSdeFA-4HL"
   },
   "outputs": [],
   "source": [
    "import numpy as np\n",
    "import time\n",
    "import matplotlib.pyplot as plt\n",
    "\n",
    "def load_data(filename):\n",
    "  P = []\n",
    "  with open(filename, 'r') as file:\n",
    "    row = []\n",
    "    for line in file:\n",
    "      row.append([str(value) for value in line.split(',')])\n",
    "    for r in row:\n",
    "      P.append([float(value) for value in r[0].split(' ')])\n",
    "  return np.array(P)\n"
   ]
  },
  {
   "cell_type": "markdown",
   "metadata": {
    "id": "UYremjRnJ_6i"
   },
   "source": [
    "### Direct Method\n",
    "\n",
    "Given a transition matrix $P$ of size $100 \\times 100$, the stationary distribution $\\pi$ satisfies:\n",
    "\n",
    "1. **Stationarity Condition**:\n",
    "   $$\n",
    "   \\pi^T P = \\pi^T \\quad \\Rightarrow \\quad \\pi^T (P - I) = 0\n",
    "   $$\n",
    "   This gives $100$ equations for $100$ unknowns.\n",
    "\n",
    "2. **Normalization Condition**:\n",
    "   $$\n",
    "   \\pi^T 1 = 1\n",
    "   $$\n",
    "   Ensures the sum of $\\pi$ components equals 1.\n",
    "\n",
    "#### Number of Equations and Variables\n",
    "- $100$ equations from stationarity.\n",
    "- $1$ equation from normalization.\n",
    "\n",
    "Thus, there are $101$ equations and $100$ variables.\n",
    "\n",
    "#### Solving the System\n",
    "The system is overdetermined, but the normalization condition adjusts it. Solve:\n",
    "$$\n",
    "A \\pi = b\n",
    "$$\n",
    "where $A = P^T - I$ and $b[-1] = 1$, yielding the unique stationary distribution $\\pi$.\n"
   ]
  },
  {
   "cell_type": "code",
   "execution_count": null,
   "metadata": {
    "id": "0Nzq0FVDJ8n5"
   },
   "outputs": [],
   "source": [
    "def compute_stationary_direct(P):\n",
    "    n = P.shape[0]\n",
    "    b = np.zeros(n)\n",
    "    A = P.T - np.eye(n) # A = (P - I)\n",
    "    # replacing the last equation with the constraint because Sum of π should be 1\n",
    "    A[-1, :] = 1\n",
    "    b[-1] = 1\n",
    "    return np.dot(np.linalg.inv(A), b)"
   ]
  },
  {
   "cell_type": "markdown",
   "metadata": {
    "id": "yWAqylG0NSY7"
   },
   "source": [
    "### Power Method for Stationary Distribution\n",
    "This `compute_stationary_power` iteratively computes the stationary distribution $\\pi$ of a transition matrix $P$ using the Power Method as discussed in class (and in lecture notes), stopping when the change between iterations is smaller than a tolerance or the maximum iterations are reached.\n"
   ]
  },
  {
   "cell_type": "code",
   "execution_count": null,
   "metadata": {
    "id": "4-Ip1-WtNDfD"
   },
   "outputs": [],
   "source": [
    "def compute_stationary_power(P, tol=1e-8, max_iter=1000):\n",
    "    n = P.shape[0]\n",
    "    pi = np.ones(n) / n\n",
    "    for i in range(max_iter):\n",
    "        new_pi = pi @ P\n",
    "        if np.linalg.norm(new_pi - pi, 1) < tol:\n",
    "            return new_pi, i\n",
    "        pi = new_pi\n",
    "    return pi, max_iter"
   ]
  },
  {
   "cell_type": "markdown",
   "metadata": {
    "id": "nnG_1PQiNn3S"
   },
   "source": [
    "#### Veryfying Distribution\n",
    "The `verify_stationary_distribution` function computes the error between the computed stationary distribution $\\pi$ and the actual stationary distribution using the L1 norm. It also returns the sum of the components of $\\pi$ to ensure it equals 1.\n"
   ]
  },
  {
   "cell_type": "code",
   "execution_count": null,
   "metadata": {
    "id": "j5exvgaVHSY4"
   },
   "outputs": [],
   "source": [
    "def verify_stationary_distribution(P, pi):\n",
    "    error = np.linalg.norm(pi @ P - pi, 1)\n",
    "    sum_pi = np.sum(pi)\n",
    "    return error, sum_pi\n"
   ]
  },
  {
   "cell_type": "markdown",
   "metadata": {
    "id": "TuFkZMkGOHtQ"
   },
   "source": [
    "### Calculation and Comparision Results\n",
    "\n",
    "1. **Direct Method**: Computes the stationary distribution $\\pi$ with its error and execution time.\n",
    "2. **Power Method**: Computes $\\pi$ iteratively, showing convergence iterations and execution time.\n",
    "3. **Comparison**: Compares errors and execution times of the direct and power methods.\n",
    "4. **Accuracy**: Displays the errors for both methods.\n",
    "5. **Computational Efficiency**: Compares the execution times of the two methods.\n"
   ]
  },
  {
   "cell_type": "code",
   "execution_count": null,
   "metadata": {
    "colab": {
     "base_uri": "https://localhost:8080/"
    },
    "id": "hMX0VwdiKuhr",
    "outputId": "1ad8ec04-f221-417d-fbba-0d1cde730958"
   },
   "outputs": [
    {
     "name": "stdout",
     "output_type": "stream",
     "text": [
      "Direct Method:\n",
      "Stationary Distribution (π): [0.00881672 0.01038619 0.0093248  0.00986107 0.00890843 0.00905618\n",
      " 0.0104268  0.01008536 0.01013856 0.01008627 0.00946903 0.01005004\n",
      " 0.01039549 0.01107021 0.01005826 0.01018863 0.01011913 0.01053488\n",
      " 0.00946717 0.00913167 0.01014592 0.01096579 0.00956576 0.00953922\n",
      " 0.01043032 0.01004577 0.00949422 0.00966776 0.01074929 0.00994642\n",
      " 0.00992029 0.00965172 0.00958922 0.01064684 0.00985292 0.0099738\n",
      " 0.01104734 0.00955717 0.00868335 0.010698   0.00861039 0.01093095\n",
      " 0.01110307 0.00933843 0.01006935 0.0110716  0.00990908 0.0094745\n",
      " 0.01059182 0.00980599 0.00999269 0.01071129 0.01099232 0.01089428\n",
      " 0.0098782  0.01039944 0.01050427 0.00930321 0.00943418 0.01094622\n",
      " 0.00992245 0.00945618 0.01013478 0.0099235  0.01011309 0.00922796\n",
      " 0.00913135 0.01025017 0.00965613 0.01092748 0.00947531 0.00938851\n",
      " 0.00985814 0.01027037 0.00991634 0.00950987 0.0093776  0.00981229\n",
      " 0.01068009 0.00926201 0.00911516 0.00973615 0.01122639 0.01096509\n",
      " 0.01032183 0.01052091 0.01058179 0.01056094 0.00977815 0.01004686\n",
      " 0.01025178 0.00941778 0.01042396 0.01017989 0.01041287 0.0092732\n",
      " 0.00880822 0.01001446 0.01070526 0.00965836]\n",
      "Error (||π⊤P - π⊤||₁): 3.74810703307471e-11\n",
      "Sum of π: 0.9999999999999998\n",
      "Execution Time: 0.0021581649780273438 seconds\n",
      "\n",
      "Power Method:\n",
      "Stationary Distribution (π): [0.00881672 0.01038619 0.0093248  0.00986107 0.00890843 0.00905618\n",
      " 0.0104268  0.01008536 0.01013856 0.01008627 0.00946903 0.01005004\n",
      " 0.01039549 0.01107021 0.01005826 0.01018863 0.01011913 0.01053488\n",
      " 0.00946717 0.00913167 0.01014592 0.01096579 0.00956576 0.00953922\n",
      " 0.01043032 0.01004577 0.00949422 0.00966776 0.01074929 0.00994642\n",
      " 0.00992029 0.00965172 0.00958922 0.01064684 0.00985292 0.0099738\n",
      " 0.01104734 0.00955717 0.00868335 0.010698   0.00861039 0.01093095\n",
      " 0.01110307 0.00933843 0.01006935 0.0110716  0.00990908 0.0094745\n",
      " 0.01059182 0.00980599 0.00999269 0.01071129 0.01099232 0.01089428\n",
      " 0.0098782  0.01039944 0.01050427 0.00930321 0.00943418 0.01094622\n",
      " 0.00992245 0.00945618 0.01013478 0.0099235  0.01011309 0.00922796\n",
      " 0.00913135 0.01025017 0.00965613 0.01092748 0.00947531 0.00938851\n",
      " 0.00985814 0.01027037 0.00991634 0.00950987 0.0093776  0.00981229\n",
      " 0.01068009 0.00926201 0.00911516 0.00973615 0.01122639 0.01096509\n",
      " 0.01032183 0.01052091 0.01058179 0.01056094 0.00977815 0.01004686\n",
      " 0.01025178 0.00941778 0.01042396 0.01017989 0.01041287 0.0092732\n",
      " 0.00880822 0.01001446 0.01070526 0.00965836]\n",
      "Error (||π⊤P - π⊤||₁): 1.1222005789901512e-10\n",
      "Sum of π: 1.000000000253994\n",
      "Iterations for Convergence: 6\n",
      "Execution Time: 0.0007195472717285156 seconds\n",
      "\n",
      "Comparison:\n",
      "Accuracy:\n",
      "Direct method error: 3.74810703307471e-11\n",
      "Power method error: 1.1222005789901512e-10\n",
      "\n",
      "Computational Efficiency:\n",
      "Direct method time: 0.0021581649780273438\n",
      "Power method time: 0.0007195472717285156\n"
     ]
    }
   ],
   "source": [
    "\n",
    "P = load_data('P_008.txt')\n",
    "\n",
    "# Direct method\n",
    "start_time = time.time()\n",
    "pi_direct = compute_stationary_direct(P)\n",
    "time_direct = time.time() - start_time\n",
    "error_direct, sum_direct = verify_stationary_distribution(P, pi_direct)\n",
    "\n",
    "# Power method\n",
    "start_time = time.time()\n",
    "pi_power, iterations_power = compute_stationary_power(P)\n",
    "time_power = time.time() - start_time\n",
    "error_power, sum_power = verify_stationary_distribution(P, pi_power)\n",
    "\n",
    "print(\"Direct Method:\")\n",
    "print(\"Stationary Distribution (π):\", pi_direct)\n",
    "print(\"Error (||π⊤P - π⊤||₁):\", error_direct)\n",
    "print(\"Sum of π:\", sum_direct)\n",
    "print(\"Execution Time:\", time_direct, \"seconds\")\n",
    "\n",
    "print(\"\\nPower Method:\")\n",
    "print(\"Stationary Distribution (π):\", pi_power)\n",
    "print(\"Error (||π⊤P - π⊤||₁):\", error_power)\n",
    "print(\"Sum of π:\", sum_power)\n",
    "print(\"Iterations for Convergence:\", iterations_power)\n",
    "print(\"Execution Time:\", time_power, \"seconds\")\n",
    "\n",
    "print(\"\\nComparison:\")\n",
    "print(\"Accuracy:\")\n",
    "print(\"Direct method error:\", error_direct)\n",
    "print(\"Power method error:\", error_power)\n",
    "\n",
    "\n",
    "print(\"\\nComputational Efficiency:\")\n",
    "print(\"Direct method time:\", time_direct)\n",
    "print(\"Power method time:\", time_power)\n"
   ]
  },
  {
   "cell_type": "markdown",
   "metadata": {
    "id": "4RUNbVR5K0we"
   },
   "source": [
    "### Impact of Matrix Size (Power Method)\n",
    "\n",
    "This section tests the effect of matrix size on the Power Method for computing the stationary distribution. Matrix sizes $( 20 \\times 20 )$, $( 50 \\times 50 )$, $( 70 \\times 70 )$, and $( 100 \\times 100 )$ are used. For each size:\n",
    "- A submatrix is extracted and normalized.\n",
    "- The stationary distribution is computed, and the time, iterations, and error are printed.\n"
   ]
  },
  {
   "cell_type": "code",
   "execution_count": null,
   "metadata": {
    "colab": {
     "base_uri": "https://localhost:8080/"
    },
    "id": "9hC3OpTgKzUx",
    "outputId": "18595857-73d6-449f-deeb-ceaf6ddd8e73"
   },
   "outputs": [
    {
     "name": "stdout",
     "output_type": "stream",
     "text": [
      "\n",
      "Matrix Size: 20x20\n",
      "Iterations: 8\n",
      "Time: 0.00024127960205078125\n",
      "Error 4.6355873306591633e-10\n",
      "\n",
      "Matrix Size: 50x50\n",
      "Iterations: 7\n",
      "Time: 0.00021910667419433594\n",
      "Error 2.1202204228409904e-10\n",
      "\n",
      "Matrix Size: 70x70\n",
      "Iterations: 6\n",
      "Time: 0.00018215179443359375\n",
      "Error 4.958074836108883e-10\n",
      "\n",
      "Matrix Size: 100x100\n",
      "Iterations: 6\n",
      "Time: 0.0002276897430419922\n",
      "Error 1.1222005789901512e-10\n"
     ]
    }
   ],
   "source": [
    "matrix_sizes = [20,50,70,100]\n",
    "for size in matrix_sizes:\n",
    "  if size == 100:\n",
    "    P_sub = P\n",
    "  else:\n",
    "    start_index = (100 - size) // 2\n",
    "    P_sub = P[start_index:start_index+size, start_index:start_index+size]\n",
    "    P_sub = P_sub / np.sum(P_sub, axis=1, keepdims = True)\n",
    "\n",
    "  start_time = time.time()\n",
    "  pi_power_sub, iterations_power_sub = compute_stationary_power(P_sub)\n",
    "  time_power_sub = time.time() - start_time\n",
    "\n",
    "  error_power_sub, sum_power_sub = verify_stationary_distribution(P_sub, pi_power_sub)\n",
    "\n",
    "  print(f\"\\nMatrix Size: {size}x{size}\")\n",
    "  print(\"Iterations:\", iterations_power_sub)\n",
    "  print(\"Time:\", time_power_sub)\n",
    "  print(\"Error\", error_power_sub)"
   ]
  }
 ],
 "metadata": {
  "colab": {
   "provenance": []
  },
  "kernelspec": {
   "display_name": "Python 3",
   "name": "python3"
  },
  "language_info": {
   "name": "python"
  }
 },
 "nbformat": 4,
 "nbformat_minor": 0
}
